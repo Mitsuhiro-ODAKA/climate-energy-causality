{
 "cells": [
  {
   "cell_type": "code",
   "execution_count": 1,
   "id": "9491acf8-962f-49a6-bd77-1544735a6e61",
   "metadata": {},
   "outputs": [],
   "source": [
    "# Notebook: 02_wdi_data_preparation.ipynb\n",
    "# Purpose: World Bank WDI から必要な指標を南アジア 6 ヵ国、2000-2023 年について取得し、整形して保存する\n",
    "\n",
    "# 1. ライブラリ読み込み\n",
    "import pandas as pd\n",
    "import pandas_datareader.wb as wb\n",
    "import os"
   ]
  },
  {
   "cell_type": "code",
   "execution_count": 4,
   "id": "3faa85f5-0ece-4981-b535-0f6786904d08",
   "metadata": {},
   "outputs": [],
   "source": [
    "# 2. 設定：対象国リストと指標リスト\n",
    "countries = [\"IN\", \"BD\", \"PK\", \"NP\", \"LK\", \"BT\"]  # ISO2 コード\n",
    "years = list(range(2000, 2024))                  # 2000～2023\n",
    "\n",
    "indicators = {\n",
    "    # エネルギー構造\n",
    "    \"EG.FEC.RNEW.ZS\": \"renewable_energy_pct\",\n",
    "    \"EG.USE.COMM.FO.ZS\": \"fossil_fuel_pct\",\n",
    "    \"EG.USE.ELEC.KH.PC\": \"electricity_per_capita\",\n",
    "    \"EN.GHG.CO2.PC.CE.AR5\": \"co2_per_capita\",\n",
    "    # 社会経済\n",
    "    \"NY.GDP.PCAP.CD\": \"gdp_per_capita\",\n",
    "    \"SL.UEM.TOTL.ZS\": \"unemployment_rate\",\n",
    "    \"SH.XPD.CHEX.GD.ZS\": \"health_expenditure_pct\",\n",
    "    \"NV.AGR.TOTL.ZS\": \"agri_valueadded_pct\",\n",
    "    \"SP.URB.TOTL.IN.ZS\": \"urbanization_pct\"\n",
    "}"
   ]
  },
  {
   "cell_type": "code",
   "execution_count": 5,
   "id": "ecde3b2d-fd41-45c8-a30f-f8fb9b718ec2",
   "metadata": {},
   "outputs": [
    {
     "name": "stdout",
     "output_type": "stream",
     "text": [
      "Downloading EG.FEC.RNEW.ZS as 'renewable_energy_pct' ...\n"
     ]
    },
    {
     "name": "stderr",
     "output_type": "stream",
     "text": [
      "C:\\Users\\user\\AppData\\Local\\Temp\\ipykernel_11292\\790999402.py:6: FutureWarning: errors='ignore' is deprecated and will raise in a future version. Use to_numeric without passing `errors` and catch exceptions explicitly instead\n",
      "  df_tmp = wb.download(\n"
     ]
    },
    {
     "name": "stdout",
     "output_type": "stream",
     "text": [
      "Downloading EG.USE.COMM.FO.ZS as 'fossil_fuel_pct' ...\n"
     ]
    },
    {
     "name": "stderr",
     "output_type": "stream",
     "text": [
      "C:\\Users\\user\\AppData\\Local\\Temp\\ipykernel_11292\\790999402.py:6: FutureWarning: errors='ignore' is deprecated and will raise in a future version. Use to_numeric without passing `errors` and catch exceptions explicitly instead\n",
      "  df_tmp = wb.download(\n"
     ]
    },
    {
     "name": "stdout",
     "output_type": "stream",
     "text": [
      "Downloading EG.USE.ELEC.KH.PC as 'electricity_per_capita' ...\n"
     ]
    },
    {
     "name": "stderr",
     "output_type": "stream",
     "text": [
      "C:\\Users\\user\\AppData\\Local\\Temp\\ipykernel_11292\\790999402.py:6: FutureWarning: errors='ignore' is deprecated and will raise in a future version. Use to_numeric without passing `errors` and catch exceptions explicitly instead\n",
      "  df_tmp = wb.download(\n"
     ]
    },
    {
     "name": "stdout",
     "output_type": "stream",
     "text": [
      "Downloading EN.GHG.CO2.PC.CE.AR5 as 'co2_per_capita' ...\n"
     ]
    },
    {
     "name": "stderr",
     "output_type": "stream",
     "text": [
      "C:\\Users\\user\\AppData\\Local\\Temp\\ipykernel_11292\\790999402.py:6: FutureWarning: errors='ignore' is deprecated and will raise in a future version. Use to_numeric without passing `errors` and catch exceptions explicitly instead\n",
      "  df_tmp = wb.download(\n"
     ]
    },
    {
     "name": "stdout",
     "output_type": "stream",
     "text": [
      "Downloading NY.GDP.PCAP.CD as 'gdp_per_capita' ...\n"
     ]
    },
    {
     "name": "stderr",
     "output_type": "stream",
     "text": [
      "C:\\Users\\user\\AppData\\Local\\Temp\\ipykernel_11292\\790999402.py:6: FutureWarning: errors='ignore' is deprecated and will raise in a future version. Use to_numeric without passing `errors` and catch exceptions explicitly instead\n",
      "  df_tmp = wb.download(\n"
     ]
    },
    {
     "name": "stdout",
     "output_type": "stream",
     "text": [
      "Downloading SL.UEM.TOTL.ZS as 'unemployment_rate' ...\n"
     ]
    },
    {
     "name": "stderr",
     "output_type": "stream",
     "text": [
      "C:\\Users\\user\\AppData\\Local\\Temp\\ipykernel_11292\\790999402.py:6: FutureWarning: errors='ignore' is deprecated and will raise in a future version. Use to_numeric without passing `errors` and catch exceptions explicitly instead\n",
      "  df_tmp = wb.download(\n"
     ]
    },
    {
     "name": "stdout",
     "output_type": "stream",
     "text": [
      "Downloading SH.XPD.CHEX.GD.ZS as 'health_expenditure_pct' ...\n"
     ]
    },
    {
     "name": "stderr",
     "output_type": "stream",
     "text": [
      "C:\\Users\\user\\AppData\\Local\\Temp\\ipykernel_11292\\790999402.py:6: FutureWarning: errors='ignore' is deprecated and will raise in a future version. Use to_numeric without passing `errors` and catch exceptions explicitly instead\n",
      "  df_tmp = wb.download(\n"
     ]
    },
    {
     "name": "stdout",
     "output_type": "stream",
     "text": [
      "Downloading NV.AGR.TOTL.ZS as 'agri_valueadded_pct' ...\n"
     ]
    },
    {
     "name": "stderr",
     "output_type": "stream",
     "text": [
      "C:\\Users\\user\\AppData\\Local\\Temp\\ipykernel_11292\\790999402.py:6: FutureWarning: errors='ignore' is deprecated and will raise in a future version. Use to_numeric without passing `errors` and catch exceptions explicitly instead\n",
      "  df_tmp = wb.download(\n"
     ]
    },
    {
     "name": "stdout",
     "output_type": "stream",
     "text": [
      "Downloading SP.URB.TOTL.IN.ZS as 'urbanization_pct' ...\n"
     ]
    },
    {
     "name": "stderr",
     "output_type": "stream",
     "text": [
      "C:\\Users\\user\\AppData\\Local\\Temp\\ipykernel_11292\\790999402.py:6: FutureWarning: errors='ignore' is deprecated and will raise in a future version. Use to_numeric without passing `errors` and catch exceptions explicitly instead\n",
      "  df_tmp = wb.download(\n"
     ]
    }
   ],
   "source": [
    "# 3. データ取得\n",
    "# wb.download() より pd.read_wb() を使ったほうがカラム名が設定しやすい\n",
    "df_list = []\n",
    "for code, name in indicators.items():\n",
    "    print(f\"Downloading {code} as '{name}' ...\")\n",
    "    df_tmp = wb.download(\n",
    "        indicator=code,\n",
    "        country=countries,\n",
    "        start=years[0],\n",
    "        end=years[-1]\n",
    "    ).reset_index()  # ['country', 'year', code]\n",
    "    df_tmp = df_tmp.rename(columns={code: name})\n",
    "    df_list.append(df_tmp)"
   ]
  },
  {
   "cell_type": "code",
   "execution_count": 31,
   "id": "c5302eae-87b4-45b4-92ab-1da352d167da",
   "metadata": {},
   "outputs": [],
   "source": [
    "# 4. マージ：すべての指標を country + year で結合\n",
    "from functools import reduce\n",
    "df_wdi = reduce(\n",
    "    lambda left, right: pd.merge(left, right, on=[\"country\", \"year\"], how=\"outer\"),\n",
    "    df_list\n",
    ")"
   ]
  },
  {
   "cell_type": "code",
   "execution_count": 32,
   "id": "ec826a3c-1c63-4bf0-a975-a673b3e4b3cd",
   "metadata": {},
   "outputs": [],
   "source": [
    "# 5. 列名と ISO2 → ISO3 変換（統一的な国コードにしたい場合）\n",
    "#    pandas_datareader.wb の国名は ISO2 なので、ISO3 に変換する例\n",
    "#    （「国名」カラムも一緒に保持されるため省略可）\n",
    "name_to_iso3 = {\n",
    "    \"India\": \"IND\",\n",
    "    \"Bangladesh\": \"BGD\",\n",
    "    \"Pakistan\": \"PAK\",\n",
    "    \"Nepal\": \"NPL\",\n",
    "    \"Sri Lanka\": \"LKA\",\n",
    "    \"Bhutan\": \"BTN\"\n",
    "}\n",
    "df_wdi[\"iso3\"] = df_wdi[\"country\"].map(name_to_iso3)\n",
    "\n",
    "# （必要であれば後で ISO2 コードも作成）\n",
    "iso3_to_iso2 = {v: k for k, v in name_to_iso3.items()}  # 逆引きマップ\n",
    "df_wdi[\"iso2\"] = df_wdi[\"iso3\"].map(iso3_to_iso2)"
   ]
  },
  {
   "cell_type": "code",
   "execution_count": 33,
   "id": "b7faaaaf-2028-4a73-8cd9-490f17ed5e29",
   "metadata": {},
   "outputs": [],
   "source": [
    "# 6. 保存用に並べ替え\n",
    "df_wdi = df_wdi[[\n",
    "    \"iso3\", \"year\",\n",
    "    \"renewable_energy_pct\", \"fossil_fuel_pct\", \"electricity_per_capita\", \"co2_per_capita\",\n",
    "    \"gdp_per_capita\", \"unemployment_rate\", \"health_expenditure_pct\", \"agri_valueadded_pct\", \"urbanization_pct\"\n",
    "]]"
   ]
  },
  {
   "cell_type": "code",
   "execution_count": 34,
   "id": "9832dfb6-ca60-4b3f-ab7f-99f04e30549a",
   "metadata": {},
   "outputs": [
    {
     "name": "stdout",
     "output_type": "stream",
     "text": [
      "Saved: ../data/processed/wdi/wdi_southasia_2000_2023.csv\n"
     ]
    },
    {
     "data": {
      "text/html": [
       "<div>\n",
       "<style scoped>\n",
       "    .dataframe tbody tr th:only-of-type {\n",
       "        vertical-align: middle;\n",
       "    }\n",
       "\n",
       "    .dataframe tbody tr th {\n",
       "        vertical-align: top;\n",
       "    }\n",
       "\n",
       "    .dataframe thead th {\n",
       "        text-align: right;\n",
       "    }\n",
       "</style>\n",
       "<table border=\"1\" class=\"dataframe\">\n",
       "  <thead>\n",
       "    <tr style=\"text-align: right;\">\n",
       "      <th></th>\n",
       "      <th>iso3</th>\n",
       "      <th>year</th>\n",
       "      <th>renewable_energy_pct</th>\n",
       "      <th>fossil_fuel_pct</th>\n",
       "      <th>electricity_per_capita</th>\n",
       "      <th>co2_per_capita</th>\n",
       "      <th>gdp_per_capita</th>\n",
       "      <th>unemployment_rate</th>\n",
       "      <th>health_expenditure_pct</th>\n",
       "      <th>agri_valueadded_pct</th>\n",
       "      <th>urbanization_pct</th>\n",
       "    </tr>\n",
       "  </thead>\n",
       "  <tbody>\n",
       "    <tr>\n",
       "      <th>0</th>\n",
       "      <td>BGD</td>\n",
       "      <td>2000</td>\n",
       "      <td>60.2</td>\n",
       "      <td>57.93</td>\n",
       "      <td>99.253551</td>\n",
       "      <td>0.200483</td>\n",
       "      <td>396.670730</td>\n",
       "      <td>3.270</td>\n",
       "      <td>1.805045</td>\n",
       "      <td>22.718148</td>\n",
       "      <td>23.590</td>\n",
       "    </tr>\n",
       "    <tr>\n",
       "      <th>1</th>\n",
       "      <td>BGD</td>\n",
       "      <td>2001</td>\n",
       "      <td>55.9</td>\n",
       "      <td>61.28</td>\n",
       "      <td>109.490964</td>\n",
       "      <td>0.238508</td>\n",
       "      <td>394.656410</td>\n",
       "      <td>3.610</td>\n",
       "      <td>1.772019</td>\n",
       "      <td>21.848341</td>\n",
       "      <td>24.096</td>\n",
       "    </tr>\n",
       "    <tr>\n",
       "      <th>2</th>\n",
       "      <td>BGD</td>\n",
       "      <td>2002</td>\n",
       "      <td>54.4</td>\n",
       "      <td>61.25</td>\n",
       "      <td>117.271799</td>\n",
       "      <td>0.247170</td>\n",
       "      <td>393.886422</td>\n",
       "      <td>3.966</td>\n",
       "      <td>1.934171</td>\n",
       "      <td>20.584134</td>\n",
       "      <td>24.756</td>\n",
       "    </tr>\n",
       "    <tr>\n",
       "      <th>3</th>\n",
       "      <td>BGD</td>\n",
       "      <td>2003</td>\n",
       "      <td>52.6</td>\n",
       "      <td>62.48</td>\n",
       "      <td>123.721051</td>\n",
       "      <td>0.255251</td>\n",
       "      <td>426.748808</td>\n",
       "      <td>4.320</td>\n",
       "      <td>1.961522</td>\n",
       "      <td>19.812718</td>\n",
       "      <td>25.429</td>\n",
       "    </tr>\n",
       "    <tr>\n",
       "      <th>4</th>\n",
       "      <td>BGD</td>\n",
       "      <td>2004</td>\n",
       "      <td>52.0</td>\n",
       "      <td>62.76</td>\n",
       "      <td>158.478288</td>\n",
       "      <td>0.265234</td>\n",
       "      <td>455.614017</td>\n",
       "      <td>4.314</td>\n",
       "      <td>1.998543</td>\n",
       "      <td>19.266960</td>\n",
       "      <td>26.114</td>\n",
       "    </tr>\n",
       "    <tr>\n",
       "      <th>5</th>\n",
       "      <td>BGD</td>\n",
       "      <td>2005</td>\n",
       "      <td>50.6</td>\n",
       "      <td>64.04</td>\n",
       "      <td>169.186795</td>\n",
       "      <td>0.278993</td>\n",
       "      <td>480.085851</td>\n",
       "      <td>4.250</td>\n",
       "      <td>2.058739</td>\n",
       "      <td>18.571040</td>\n",
       "      <td>26.809</td>\n",
       "    </tr>\n",
       "    <tr>\n",
       "      <th>6</th>\n",
       "      <td>BGD</td>\n",
       "      <td>2006</td>\n",
       "      <td>48.6</td>\n",
       "      <td>65.94</td>\n",
       "      <td>189.596090</td>\n",
       "      <td>0.296997</td>\n",
       "      <td>490.388027</td>\n",
       "      <td>3.591</td>\n",
       "      <td>2.106466</td>\n",
       "      <td>18.034017</td>\n",
       "      <td>27.517</td>\n",
       "    </tr>\n",
       "    <tr>\n",
       "      <th>7</th>\n",
       "      <td>BGD</td>\n",
       "      <td>2007</td>\n",
       "      <td>47.2</td>\n",
       "      <td>67.11</td>\n",
       "      <td>198.744128</td>\n",
       "      <td>0.312232</td>\n",
       "      <td>537.955493</td>\n",
       "      <td>4.017</td>\n",
       "      <td>2.172685</td>\n",
       "      <td>17.806537</td>\n",
       "      <td>28.237</td>\n",
       "    </tr>\n",
       "    <tr>\n",
       "      <th>8</th>\n",
       "      <td>BGD</td>\n",
       "      <td>2008</td>\n",
       "      <td>45.2</td>\n",
       "      <td>68.29</td>\n",
       "      <td>200.690067</td>\n",
       "      <td>0.343316</td>\n",
       "      <td>613.062041</td>\n",
       "      <td>4.492</td>\n",
       "      <td>2.118788</td>\n",
       "      <td>17.595696</td>\n",
       "      <td>28.968</td>\n",
       "    </tr>\n",
       "    <tr>\n",
       "      <th>9</th>\n",
       "      <td>BGD</td>\n",
       "      <td>2009</td>\n",
       "      <td>43.1</td>\n",
       "      <td>69.88</td>\n",
       "      <td>218.832023</td>\n",
       "      <td>0.365306</td>\n",
       "      <td>679.211477</td>\n",
       "      <td>5.000</td>\n",
       "      <td>2.183217</td>\n",
       "      <td>17.104629</td>\n",
       "      <td>29.709</td>\n",
       "    </tr>\n",
       "  </tbody>\n",
       "</table>\n",
       "</div>"
      ],
      "text/plain": [
       "  iso3  year  renewable_energy_pct  fossil_fuel_pct  electricity_per_capita  \\\n",
       "0  BGD  2000                  60.2            57.93               99.253551   \n",
       "1  BGD  2001                  55.9            61.28              109.490964   \n",
       "2  BGD  2002                  54.4            61.25              117.271799   \n",
       "3  BGD  2003                  52.6            62.48              123.721051   \n",
       "4  BGD  2004                  52.0            62.76              158.478288   \n",
       "5  BGD  2005                  50.6            64.04              169.186795   \n",
       "6  BGD  2006                  48.6            65.94              189.596090   \n",
       "7  BGD  2007                  47.2            67.11              198.744128   \n",
       "8  BGD  2008                  45.2            68.29              200.690067   \n",
       "9  BGD  2009                  43.1            69.88              218.832023   \n",
       "\n",
       "   co2_per_capita  gdp_per_capita  unemployment_rate  health_expenditure_pct  \\\n",
       "0        0.200483      396.670730              3.270                1.805045   \n",
       "1        0.238508      394.656410              3.610                1.772019   \n",
       "2        0.247170      393.886422              3.966                1.934171   \n",
       "3        0.255251      426.748808              4.320                1.961522   \n",
       "4        0.265234      455.614017              4.314                1.998543   \n",
       "5        0.278993      480.085851              4.250                2.058739   \n",
       "6        0.296997      490.388027              3.591                2.106466   \n",
       "7        0.312232      537.955493              4.017                2.172685   \n",
       "8        0.343316      613.062041              4.492                2.118788   \n",
       "9        0.365306      679.211477              5.000                2.183217   \n",
       "\n",
       "   agri_valueadded_pct  urbanization_pct  \n",
       "0            22.718148            23.590  \n",
       "1            21.848341            24.096  \n",
       "2            20.584134            24.756  \n",
       "3            19.812718            25.429  \n",
       "4            19.266960            26.114  \n",
       "5            18.571040            26.809  \n",
       "6            18.034017            27.517  \n",
       "7            17.806537            28.237  \n",
       "8            17.595696            28.968  \n",
       "9            17.104629            29.709  "
      ]
     },
     "execution_count": 34,
     "metadata": {},
     "output_type": "execute_result"
    }
   ],
   "source": [
    "# 7. CSV 保存\n",
    "os.makedirs(\"../data/processed/wdi\", exist_ok=True)\n",
    "df_wdi.to_csv(\"../data/processed/wdi/wdi_southasia_2000_2023.csv\", index=False)\n",
    "print(\"Saved: ../data/processed/wdi/wdi_southasia_2000_2023.csv\")\n",
    "\n",
    "# 8. データサンプル表示\n",
    "df_wdi.head(10)"
   ]
  },
  {
   "cell_type": "code",
   "execution_count": null,
   "id": "3e2d1bb0-614e-456e-956f-6a60449c264d",
   "metadata": {},
   "outputs": [],
   "source": []
  }
 ],
 "metadata": {
  "kernelspec": {
   "display_name": "Python 3 (ipykernel)",
   "language": "python",
   "name": "python3"
  },
  "language_info": {
   "codemirror_mode": {
    "name": "ipython",
    "version": 3
   },
   "file_extension": ".py",
   "mimetype": "text/x-python",
   "name": "python",
   "nbconvert_exporter": "python",
   "pygments_lexer": "ipython3",
   "version": "3.10.16"
  }
 },
 "nbformat": 4,
 "nbformat_minor": 5
}
