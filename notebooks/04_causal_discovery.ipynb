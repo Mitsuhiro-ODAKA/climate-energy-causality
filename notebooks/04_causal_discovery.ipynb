{
 "cells": [
  {
   "cell_type": "markdown",
   "id": "06810aef-5add-4326-acf3-45c43a2e85a0",
   "metadata": {},
   "source": [
    "# Notebook: 04_causal_discovery.ipynb\n",
    "**Purpose:**  \n",
    "- 標準化済みパネルデータを読み込み、三層因果ネットワークを推定し、エッジリストを出力する"
   ]
  },
  {
   "cell_type": "markdown",
   "id": "677dcaa1-ee05-4253-aa78-43b47986571c",
   "metadata": {},
   "source": [
    "!pip install git+https://github.com/xunzheng/notears.git"
   ]
  },
  {
   "cell_type": "code",
   "execution_count": 1,
   "id": "1f18570c-9ee2-4a76-9308-664011c1b361",
   "metadata": {},
   "outputs": [
    {
     "name": "stdout",
     "output_type": "stream",
     "text": [
      "sys.path の先頭に追加されたパス: C:\\Users\\user\\OneDrive\\Desktop\\climate-energy-causality\\notears\n",
      "✅ ローカル版 notears_linear をインポートできました\n",
      "関数シグネチャ: (X, lambda1, loss_type, max_iter=100, h_tol=1e-08, rho_max=1e+16, w_threshold=0.3, mask=None)\n"
     ]
    }
   ],
   "source": [
    "# -----------------------\n",
    "# ライブラリのインポート\n",
    "# -----------------------\n",
    "# Notebook: 04_notears_partial_order.ipynb\n",
    "# ローカルの notears パッケージを Python パスに追加しておく\n",
    "\n",
    "import sys\n",
    "import os\n",
    "import pandas as pd\n",
    "import numpy as np\n",
    "import importlib\n",
    "\n",
    "# 1) カーネル内にすでに読み込まれている 'notears' モジュールを削除\n",
    "for mod in list(sys.modules):\n",
    "    if mod.startswith(\"notears\"):\n",
    "        del sys.modules[mod]\n",
    "\n",
    "# 2) “notears” フォルダのパスを正しく指定し、sys.path の先頭に挿入\n",
    "#    例：この Notebook が \"your-project/notebooks\" にある場合\n",
    "repo_path = os.path.abspath(os.path.join(os.getcwd(), \"..\", \"notears\"))\n",
    "if repo_path not in sys.path:\n",
    "    sys.path.insert(0, repo_path)\n",
    "\n",
    "print(\"sys.path の先頭に追加されたパス:\", sys.path[0])\n",
    "\n",
    "# 3) 改めてローカルの notears.linear をインポートして、正しい関数が読み込まれるか確認\n",
    "try:\n",
    "    import notears.linear\n",
    "    importlib.reload(notears.linear)\n",
    "    from notears.linear import notears_linear\n",
    "    print(\"✅ ローカル版 notears_linear をインポートできました\")\n",
    "    import inspect\n",
    "    print(\"関数シグネチャ:\", inspect.signature(notears_linear))\n",
    "except Exception as e:\n",
    "    print(\"❌ インポート失敗:\", e)"
   ]
  },
  {
   "cell_type": "code",
   "execution_count": 2,
   "id": "36851db0-0336-4cc8-9600-46cd4b9883f2",
   "metadata": {},
   "outputs": [
    {
     "name": "stdout",
     "output_type": "stream",
     "text": [
      "使われている linear.py の場所: C:\\Users\\user\\anaconda3\\envs\\climate-energy-causality\\lib\\site-packages\\notears\\linear.py\n"
     ]
    }
   ],
   "source": [
    "import sys, os\n",
    "\n",
    "# 例：ノートブックと同階層に \"notears\" フォルダがあるとする場合\n",
    "repo_path = os.path.abspath(os.path.join(os.getcwd(), \"..\", \"notears\"))\n",
    "if repo_path not in sys.path:\n",
    "    sys.path.insert(0, repo_path)\n",
    "\n",
    "# 既にインポート済みのモジュールをクリア\n",
    "import importlib\n",
    "if \"notears.linear\" in sys.modules:\n",
    "    del sys.modules[\"notears.linear\"]\n",
    "if \"notears\" in sys.modules:\n",
    "    del sys.modules[\"notears\"]\n",
    "\n",
    "# 改めてインポートしてどのファイルが来るかを確認\n",
    "import notears.linear\n",
    "print(\"使われている linear.py の場所:\", notears.linear.__file__)"
   ]
  },
  {
   "cell_type": "code",
   "execution_count": 3,
   "id": "9ef0afbf-414a-426d-bcaa-e3349f01af4b",
   "metadata": {},
   "outputs": [
    {
     "name": "stdout",
     "output_type": "stream",
     "text": [
      "読み込んだデータのカラム一覧:\n",
      "['country', 'iso3', 'year', 'mean_wbgt', 'renewable_energy_pct', 'fossil_fuel_pct', 'electricity_per_capita', 'co2_per_capita', 'gdp_per_capita', 'unemployment_rate', 'health_expenditure_pct', 'agri_valueadded_pct', 'urbanization_pct']\n"
     ]
    }
   ],
   "source": [
    "# -------------------------------\n",
    "# データの読み込みと変数順の定義\n",
    "# -------------------------------\n",
    "# 標準化済みパネルデータを読み込む\n",
    "panel_path = \"../data/processed/panel/panel_southasia_2000_2021_scaled.csv\"\n",
    "df_panel = pd.read_csv(panel_path)\n",
    "\n",
    "print(\"読み込んだデータのカラム一覧:\")\n",
    "print(df_panel.columns.tolist())\n"
   ]
  },
  {
   "cell_type": "code",
   "execution_count": 4,
   "id": "266af8d4-8ef3-4c86-8161-938703f4d332",
   "metadata": {},
   "outputs": [
    {
     "name": "stdout",
     "output_type": "stream",
     "text": [
      "X の形状: (110, 10)  (n=110, d=10)\n"
     ]
    }
   ],
   "source": [
    "# 層順（Partial Order）を厳密に反映する「変数リスト」を定義\n",
    "numeric_cols = [\n",
    "    \"mean_wbgt\",                    # 気候層 (layer 0)\n",
    "\n",
    "    \"renewable_energy_pct\",         # エネルギー層 (layer 1)\n",
    "    \"fossil_fuel_pct\",\n",
    "    \"electricity_per_capita\",\n",
    "    \"co2_per_capita\",\n",
    "\n",
    "    \"gdp_per_capita\",               # 社会経済層 (layer 2)\n",
    "    \"unemployment_rate\",\n",
    "    \"health_expenditure_pct\",\n",
    "    \"agri_valueadded_pct\",\n",
    "    \"urbanization_pct\"\n",
    "]\n",
    "\n",
    "# 全て存在するかチェック\n",
    "missing = [c for c in numeric_cols if c not in df_panel.columns]\n",
    "if missing:\n",
    "    raise ValueError(f\"以下の列がデータに見つかりませんでした: {missing}\")\n",
    "\n",
    "# 学習行列 X を作成\n",
    "X = df_panel[numeric_cols].values  # shape = (サンプル数, 変数数)\n",
    "n, d = X.shape\n",
    "print(f\"X の形状: {X.shape}  (n={n}, d={d})\")"
   ]
  },
  {
   "cell_type": "code",
   "execution_count": 16,
   "id": "abd8eea5-5a58-478d-bec2-c10ef33c532b",
   "metadata": {},
   "outputs": [
    {
     "name": "stdout",
     "output_type": "stream",
     "text": [
      "Bangladesh: corr(mean_wbgt, renewable)=-0.625, corr(mean_wbgt, electricity)=0.610, corr(mean_wbgt, co2)=0.612\n",
      "India: corr(mean_wbgt, renewable)=-0.679, corr(mean_wbgt, electricity)=0.754, corr(mean_wbgt, co2)=0.703\n",
      "Nepal: corr(mean_wbgt, renewable)=-0.349, corr(mean_wbgt, electricity)=0.388, corr(mean_wbgt, co2)=0.365\n",
      "Pakistan: corr(mean_wbgt, renewable)=-0.577, corr(mean_wbgt, electricity)=0.528, corr(mean_wbgt, co2)=0.571\n",
      "Sri Lanka: corr(mean_wbgt, renewable)=-0.700, corr(mean_wbgt, electricity)=0.747, corr(mean_wbgt, co2)=0.726\n"
     ]
    }
   ],
   "source": [
    "# 国別に mean_wbgt とエネルギー変数の相関をチェックする例\n",
    "for country, df_ct in df_panel.groupby(\"country\"):\n",
    "    corr_renew = df_ct[\"mean_wbgt\"].corr(df_ct[\"renewable_energy_pct\"])\n",
    "    corr_elec  = df_ct[\"mean_wbgt\"].corr(df_ct[\"electricity_per_capita\"])\n",
    "    corr_co2   = df_ct[\"mean_wbgt\"].corr(df_ct[\"co2_per_capita\"])\n",
    "    print(f\"{country}: corr(mean_wbgt, renewable)={corr_renew:.3f}, corr(mean_wbgt, electricity)={corr_elec:.3f}, corr(mean_wbgt, co2)={corr_co2:.3f}\")"
   ]
  },
  {
   "cell_type": "markdown",
   "id": "696da310-2289-485a-a612-fbbb9964619f",
   "metadata": {},
   "source": [
    "## 南アジア５か国の平均的ネットワーク"
   ]
  },
  {
   "cell_type": "code",
   "execution_count": 5,
   "id": "d498296d-c601-42bf-a662-b9b98d68d4f0",
   "metadata": {},
   "outputs": [
    {
     "name": "stdout",
     "output_type": "stream",
     "text": [
      "mask 行列のサンプル (先頭 5 行, 5 列):\n",
      "[[0 1 1 1 1]\n",
      " [0 0 0 0 0]\n",
      " [0 0 0 0 0]\n",
      " [0 0 0 0 0]\n",
      " [0 0 0 0 0]]\n"
     ]
    }
   ],
   "source": [
    "# --------------------------\n",
    "# 「部分的順序マスク」の作成\n",
    "# --------------------------\n",
    "# Partial Order を定義 (layer_map を作成)\n",
    "# 1) 各変数の“層番号”を定義 (0=気候, 1=エネルギー, 2=社会経済)\n",
    "# ここでは三層：\n",
    "#   - 気候層: mean_wbgt\n",
    "#   - エネルギー層: renewable_energy_pct, fossil_fuel_pct, electricity_per_capita, co2_per_capita\n",
    "#   - 社会経済層: gdp_per_capita, unemployment_rate, health_expenditure_pct, agri_valueadded_pct, urbanization_pct\n",
    "layer_map = {\n",
    "    \"mean_wbgt\": 0,\n",
    "    \"renewable_energy_pct\": 1,\n",
    "    \"fossil_fuel_pct\": 1,\n",
    "    \"electricity_per_capita\": 1,\n",
    "    \"co2_per_capita\": 1,\n",
    "    \"gdp_per_capita\": 2,\n",
    "    \"unemployment_rate\": 2,\n",
    "    \"health_expenditure_pct\": 2,\n",
    "    \"agri_valueadded_pct\": 2,\n",
    "    \"urbanization_pct\": 2\n",
    "}\n",
    "\n",
    "# mask 行列 (d x d) を作成。mask[i,j] == 1 は「変数 j→i を禁止」という意味\n",
    "mask = np.zeros((d, d), dtype=int)\n",
    "for i, tgt in enumerate(numeric_cols):\n",
    "    for j, src in enumerate(numeric_cols):\n",
    "        # src の層 > tgt の層 なら禁止\n",
    "        if layer_map[src] > layer_map[tgt]:\n",
    "            mask[i, j] = 1\n",
    "\n",
    "# mask の一部を表示しておく\n",
    "print(\"mask 行列のサンプル (先頭 5 行, 5 列):\")\n",
    "print(mask[:5, :5])"
   ]
  },
  {
   "cell_type": "code",
   "execution_count": 21,
   "id": "1f26c71c-c139-4e69-93da-047237a85db4",
   "metadata": {},
   "outputs": [
    {
     "name": "stdout",
     "output_type": "stream",
     "text": [
      "\n",
      "-- notears_linear の学習を開始します --\n",
      "-- 学習完了 --\n",
      "返り値 W_est の形状: (10, 10)\n"
     ]
    }
   ],
   "source": [
    "# ローカル版 notears_linear を呼び出して学習\n",
    "\n",
    "# 改めてインポート（既にインポート済みなら reload でもOK）\n",
    "import importlib\n",
    "import notears.linear\n",
    "importlib.reload(notears.linear)\n",
    "from notears.linear import notears_linear\n",
    "\n",
    "# 正則化パラメータ λ を設定\n",
    "lambda1 = 0.1\n",
    "\n",
    "print(\"\\n-- notears_linear の学習を開始します --\")\n",
    "W_est = notears_linear(\n",
    "    X,\n",
    "    lambda1=0.001,\n",
    "    loss_type=\"l2\",\n",
    "    max_iter=100,\n",
    "    h_tol=1e-8,\n",
    "    rho_max=1e+16,\n",
    "    w_threshold=1e-8,\n",
    "    mask=mask\n",
    ")\n",
    "print(\"-- 学習完了 --\")\n",
    "print(\"返り値 W_est の形状:\", W_est.shape)"
   ]
  },
  {
   "cell_type": "code",
   "execution_count": 22,
   "id": "35e83c5f-7675-407f-9d97-215c259d24b0",
   "metadata": {},
   "outputs": [
    {
     "name": "stdout",
     "output_type": "stream",
     "text": [
      "\n",
      "最終的な重み行列 (非ゼロのみ表示):\n",
      "                       mean_wbgt renewable_energy_pct fossil_fuel_pct  \\\n",
      "renewable_energy_pct   -0.137042                 <NA>       -0.000041   \n",
      "fossil_fuel_pct         1.307336             -0.98826            <NA>   \n",
      "electricity_per_capita -0.000024                 -0.0        0.000012   \n",
      "co2_per_capita         -0.000018            -0.000001        0.000015   \n",
      "gdp_per_capita          0.000001                 -0.0        0.000001   \n",
      "unemployment_rate      -0.000016                 -0.0       -0.000008   \n",
      "health_expenditure_pct -0.000004                 -0.0       -0.000004   \n",
      "agri_valueadded_pct     -0.00002                 -0.0       -0.000006   \n",
      "urbanization_pct       -0.882442            -0.000001        0.000027   \n",
      "\n",
      "                       electricity_per_capita co2_per_capita gdp_per_capita  \\\n",
      "renewable_energy_pct                -1.075055      -0.008049           <NA>   \n",
      "fossil_fuel_pct                          <NA>       0.455398           <NA>   \n",
      "electricity_per_capita                   <NA>       1.143454           <NA>   \n",
      "co2_per_capita                       0.000005           <NA>           <NA>   \n",
      "gdp_per_capita                       0.561586      -0.339888           <NA>   \n",
      "unemployment_rate                    0.000023      -0.186825      -0.000013   \n",
      "health_expenditure_pct               0.449288       0.154844       -0.24359   \n",
      "agri_valueadded_pct                  0.459354       0.010336      -0.992795   \n",
      "urbanization_pct                         <NA>      -0.370169      -0.719304   \n",
      "\n",
      "                       unemployment_rate health_expenditure_pct  \\\n",
      "renewable_energy_pct                <NA>                   <NA>   \n",
      "fossil_fuel_pct                     <NA>                   <NA>   \n",
      "electricity_per_capita              <NA>                   <NA>   \n",
      "co2_per_capita                      <NA>                   <NA>   \n",
      "gdp_per_capita                 -0.467741              -0.000051   \n",
      "unemployment_rate                   <NA>               0.000033   \n",
      "health_expenditure_pct          0.472304                   <NA>   \n",
      "agri_valueadded_pct             0.106947              -0.714584   \n",
      "urbanization_pct               -1.027148              -0.917494   \n",
      "\n",
      "                       agri_valueadded_pct urbanization_pct  \n",
      "renewable_energy_pct                  <NA>             <NA>  \n",
      "fossil_fuel_pct                       <NA>             <NA>  \n",
      "electricity_per_capita                <NA>             <NA>  \n",
      "co2_per_capita                        <NA>             <NA>  \n",
      "gdp_per_capita                   -0.000004        -0.000016  \n",
      "unemployment_rate                 0.000003        -0.000003  \n",
      "health_expenditure_pct           -0.000007        -0.000005  \n",
      "agri_valueadded_pct                   <NA>         0.000024  \n",
      "urbanization_pct                  0.626159             <NA>  \n",
      "\n",
      "抽出されたエッジ数: 52\n",
      "                   source                target    weight\n",
      "0               mean_wbgt  renewable_energy_pct -0.137042\n",
      "1         fossil_fuel_pct  renewable_energy_pct -0.000041\n",
      "2  electricity_per_capita  renewable_energy_pct -1.075055\n",
      "3          co2_per_capita  renewable_energy_pct -0.008049\n",
      "4               mean_wbgt       fossil_fuel_pct  1.307336\n",
      "エッジリストを保存: ../data/processed/panel/edges_notears_masked.csv\n"
     ]
    }
   ],
   "source": [
    "# 結果を DataFrame に変換し、エッジリストとして保存\n",
    "\n",
    "# W_est を DataFrame に変換 (i 行, j 列 = j→i の重み)\n",
    "df_W = pd.DataFrame(W_est, index=numeric_cols, columns=numeric_cols)\n",
    "\n",
    "# 非ゼロエントリだけを表示して確認\n",
    "print(\"\\n最終的な重み行列 (非ゼロのみ表示):\")\n",
    "print(df_W.replace(0, pd.NA).dropna(how=\"all\", axis=0).dropna(how=\"all\", axis=1))\n",
    "\n",
    "# エッジリスト作成\n",
    "edges = []\n",
    "threshold = 1e-6\n",
    "for i, tgt in enumerate(numeric_cols):\n",
    "    for j, src in enumerate(numeric_cols):\n",
    "        w = df_W.iloc[i, j]\n",
    "        if abs(w) > threshold:\n",
    "            edges.append({\"source\": src, \"target\": tgt, \"weight\": float(w)})\n",
    "\n",
    "df_edges = pd.DataFrame(edges)\n",
    "print(f\"\\n抽出されたエッジ数: {len(df_edges)}\")\n",
    "print(df_edges.head())\n",
    "\n",
    "# CSV 保存\n",
    "os.makedirs(\"../data/processed/panel\", exist_ok=True)\n",
    "edges_path = \"../data/processed/panel/edges_notears_masked.csv\"\n",
    "df_edges.to_csv(edges_path, index=False)\n",
    "print(f\"エッジリストを保存: {edges_path}\")\n"
   ]
  },
  {
   "cell_type": "code",
   "execution_count": 19,
   "id": "6b9d6ff4-60b7-4988-8545-b50e360ad18d",
   "metadata": {},
   "outputs": [
    {
     "name": "stdout",
     "output_type": "stream",
     "text": [
      "逆エッジの検出数: 0\n",
      "層構造の逆転エッジは検出されませんでした。\n"
     ]
    }
   ],
   "source": [
    "# ---------------------------\n",
    "# 層ごとのエッジ制約の確認\n",
    "# もし、社会経済変数 → 気候変数」のような“逆エッジ”があれば警告を出す\n",
    "# ---------------------------\n",
    "# 各変数がどの層に属するかを辞書で定義\n",
    "layer_map = {\n",
    "    \"mean_wbgt\": 0,  # 気候層\n",
    "    \"renewable_energy_pct\": 1,\n",
    "    \"fossil_fuel_pct\": 1,\n",
    "    \"electricity_per_capita\": 1,\n",
    "    \"co2_per_capita\": 1,  # エネルギー構造層\n",
    "    \"gdp_per_capita\": 2,\n",
    "    \"unemployment_rate\": 2,\n",
    "    \"health_expenditure_pct\": 2,\n",
    "    \"agri_valueadded_pct\": 2,\n",
    "    \"urbanization_pct\": 2   # 社会経済層\n",
    "}\n",
    "\n",
    "# 逆エッジをチェック\n",
    "violations = []\n",
    "for idx, row in df_edges.iterrows():\n",
    "    src = row[\"source\"]\n",
    "    tgt = row[\"target\"]\n",
    "    if layer_map[src] > layer_map[tgt]:\n",
    "        violations.append((src, tgt, row[\"weight\"]))\n",
    "\n",
    "print(f\"逆エッジの検出数: {len(violations)}\")\n",
    "if violations:\n",
    "    print(\"逆エッジ (source → target → weight):\")\n",
    "    for v in violations:\n",
    "        print(f\"  {v[0]} → {v[1]} (weight={v[2]:.4f})\")\n",
    "else:\n",
    "    print(\"層構造の逆転エッジは検出されませんでした。\")\n"
   ]
  },
  {
   "cell_type": "markdown",
   "id": "f90bf3bf-28ae-4f47-920f-952bce149501",
   "metadata": {},
   "source": [
    "## 国別 NOTEARS"
   ]
  },
  {
   "cell_type": "code",
   "execution_count": 23,
   "id": "24099245-cf2e-44bd-8a0e-0c814333b2d2",
   "metadata": {},
   "outputs": [],
   "source": [
    "import pandas as pd\n",
    "import numpy as np\n",
    "import os\n",
    "from notears.linear import notears_linear  # mask付きに改造済み\n",
    "\n",
    "results = []\n",
    "for country, df_ct in df_panel.groupby(\"country\"):\n",
    "    X_ct = df_ct[numeric_cols].values\n",
    "    # NOTEARS 学習\n",
    "    W_ct = notears_linear(\n",
    "        X_ct,\n",
    "        lambda1=0.001,\n",
    "        loss_type=\"l2\",\n",
    "        max_iter=100,\n",
    "        h_tol=1e-8,\n",
    "        rho_max=1e16,\n",
    "        w_threshold=1e-8,\n",
    "        mask=mask\n",
    "    )\n",
    "    # DataFrame にして保存（解析用）\n",
    "    df_W_ct = pd.DataFrame(W_ct, index=numeric_cols, columns=numeric_cols)\n",
    "    df_W_ct[\"country\"] = country\n",
    "    results.append(df_W_ct)\n",
    "\n",
    "# 結果を結合してひとつの DataFrame にまとめる\n",
    "df_all_countries = pd.concat(results, ignore_index=False)\n",
    "# (indexがnumeric_colsの各国分×、country列が付与された状態)\n",
    "\n",
    "# たとえば、「source,target,weight,country」形式のエッジリストに展開する例\n",
    "edges = []\n",
    "for country, df_ct in df_all_countries.groupby(\"country\"):\n",
    "    for tgt in numeric_cols:\n",
    "        for src in numeric_cols:\n",
    "            w = df_ct.at[tgt, src]\n",
    "            if abs(w) > 1e-6:\n",
    "                edges.append({\n",
    "                    \"country\": country,\n",
    "                    \"source\": src,\n",
    "                    \"target\": tgt,\n",
    "                    \"weight\": float(w)\n",
    "                })\n",
    "df_edges_country = pd.DataFrame(edges)\n",
    "df_edges_country.to_csv(\"../data/processed/panel/edges_per_country.csv\", index=False)"
   ]
  },
  {
   "cell_type": "markdown",
   "id": "3c4e3ba9-b0d1-4dd2-b0fd-a45d04d3bf7f",
   "metadata": {},
   "source": [
    "次ステップへのメモ\n",
    "1. エッジリストをグラフ描画ソフトに読み込む\n",
    " - Gephi/Cytoscape などでエッジリスト CSV をインポートし、レイアウト設定やノード属性（層番号や重み）を適用して可視化する。\n",
    " - 中心性指標（betweenness, degree, PageRank など）を計算し、政策介入ポイントを検討。\n",
    "\n",
    "2. do演算による介入シミュレーション\n",
    " - もし「mean_wbgt に +1 標準偏差の介入を行ったら、下流の gdp_per_capita はどれくらい変化するか」などを検証したい場合、\n",
    "   - Python コードで モデルの重み を用いて手動でパス分析を行うか、\n",
    "   - DoWhy や econml などを使って複雑な介入分析を行う選択肢がある。\n",
    "\n",
    "3. 層ごとの強調\n",
    " - ネットワーク可視化時に「気候層」「エネルギー層」「社会経済層」を色分けし、政策提言に役立つ重要ノードを見つける。"
   ]
  }
 ],
 "metadata": {
  "kernelspec": {
   "display_name": "Python 3 (ipykernel)",
   "language": "python",
   "name": "python3"
  },
  "language_info": {
   "codemirror_mode": {
    "name": "ipython",
    "version": 3
   },
   "file_extension": ".py",
   "mimetype": "text/x-python",
   "name": "python",
   "nbconvert_exporter": "python",
   "pygments_lexer": "ipython3",
   "version": "3.12.9"
  }
 },
 "nbformat": 4,
 "nbformat_minor": 5
}
